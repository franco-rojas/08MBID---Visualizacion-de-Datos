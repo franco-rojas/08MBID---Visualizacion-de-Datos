{
 "cells": [
  {
   "cell_type": "markdown",
   "id": "56159d2e",
   "metadata": {},
   "source": [
    "# <center>TRABAJO PRACTICO<center>"
   ]
  },
  {
   "cell_type": "markdown",
   "id": "b4d605c3",
   "metadata": {},
   "source": [
    "**Estudiante**: Franco Rojas Yucra"
   ]
  },
  {
   "cell_type": "markdown",
   "id": "4cc74f0a",
   "metadata": {},
   "source": [
    "###### Librerias necesarias"
   ]
  },
  {
   "cell_type": "code",
   "execution_count": 16,
   "id": "c0d966a5",
   "metadata": {},
   "outputs": [],
   "source": [
    "library(tidyverse)\n",
    "library(gganimate)\n",
    "library(readxl)"
   ]
  },
  {
   "cell_type": "markdown",
   "id": "79222ae2",
   "metadata": {},
   "source": [
    "## Datos"
   ]
  },
  {
   "cell_type": "code",
   "execution_count": 17,
   "id": "0183a4f7",
   "metadata": {},
   "outputs": [],
   "source": [
    "poblacion  <- read_excel(\"datos_censo/02 Censo2017-Datos-Piramide-poblacional (Salidas).xlsx\")"
   ]
  },
  {
   "cell_type": "code",
   "execution_count": 18,
   "id": "2c600397",
   "metadata": {},
   "outputs": [
    {
     "data": {
      "text/html": [
       "<table class=\"dataframe\">\n",
       "<caption>A tibble: 6 × 5</caption>\n",
       "<thead>\n",
       "\t<tr><th scope=col>year</th><th scope=col>edad_quinquenal</th><th scope=col>sexo</th><th scope=col>poblacion</th><th scope=col>porcentaje_total</th></tr>\n",
       "\t<tr><th scope=col>&lt;dbl&gt;</th><th scope=col>&lt;chr&gt;</th><th scope=col>&lt;chr&gt;</th><th scope=col>&lt;dbl&gt;</th><th scope=col>&lt;dbl&gt;</th></tr>\n",
       "</thead>\n",
       "<tbody>\n",
       "\t<tr><td>2017</td><td>0-04 </td><td>Hombres</td><td>1269889</td><td>0.04322014</td></tr>\n",
       "\t<tr><td>2017</td><td>05-09</td><td>Hombres</td><td>1344405</td><td>0.04575626</td></tr>\n",
       "\t<tr><td>2017</td><td>10-14</td><td>Hombres</td><td>1324118</td><td>0.04506580</td></tr>\n",
       "\t<tr><td>2017</td><td>15-19</td><td>Hombres</td><td>1217519</td><td>0.04143774</td></tr>\n",
       "\t<tr><td>2017</td><td>20-24</td><td>Hombres</td><td>1232042</td><td>0.04193203</td></tr>\n",
       "\t<tr><td>2017</td><td>25-29</td><td>Hombres</td><td>1159949</td><td>0.03947837</td></tr>\n",
       "</tbody>\n",
       "</table>\n"
      ],
      "text/latex": [
       "A tibble: 6 × 5\n",
       "\\begin{tabular}{lllll}\n",
       " year & edad\\_quinquenal & sexo & poblacion & porcentaje\\_total\\\\\n",
       " <dbl> & <chr> & <chr> & <dbl> & <dbl>\\\\\n",
       "\\hline\n",
       "\t 2017 & 0-04  & Hombres & 1269889 & 0.04322014\\\\\n",
       "\t 2017 & 05-09 & Hombres & 1344405 & 0.04575626\\\\\n",
       "\t 2017 & 10-14 & Hombres & 1324118 & 0.04506580\\\\\n",
       "\t 2017 & 15-19 & Hombres & 1217519 & 0.04143774\\\\\n",
       "\t 2017 & 20-24 & Hombres & 1232042 & 0.04193203\\\\\n",
       "\t 2017 & 25-29 & Hombres & 1159949 & 0.03947837\\\\\n",
       "\\end{tabular}\n"
      ],
      "text/markdown": [
       "\n",
       "A tibble: 6 × 5\n",
       "\n",
       "| year &lt;dbl&gt; | edad_quinquenal &lt;chr&gt; | sexo &lt;chr&gt; | poblacion &lt;dbl&gt; | porcentaje_total &lt;dbl&gt; |\n",
       "|---|---|---|---|---|\n",
       "| 2017 | 0-04  | Hombres | 1269889 | 0.04322014 |\n",
       "| 2017 | 05-09 | Hombres | 1344405 | 0.04575626 |\n",
       "| 2017 | 10-14 | Hombres | 1324118 | 0.04506580 |\n",
       "| 2017 | 15-19 | Hombres | 1217519 | 0.04143774 |\n",
       "| 2017 | 20-24 | Hombres | 1232042 | 0.04193203 |\n",
       "| 2017 | 25-29 | Hombres | 1159949 | 0.03947837 |\n",
       "\n"
      ],
      "text/plain": [
       "  year edad_quinquenal sexo    poblacion porcentaje_total\n",
       "1 2017 0-04            Hombres 1269889   0.04322014      \n",
       "2 2017 05-09           Hombres 1344405   0.04575626      \n",
       "3 2017 10-14           Hombres 1324118   0.04506580      \n",
       "4 2017 15-19           Hombres 1217519   0.04143774      \n",
       "5 2017 20-24           Hombres 1232042   0.04193203      \n",
       "6 2017 25-29           Hombres 1159949   0.03947837      "
      ]
     },
     "metadata": {},
     "output_type": "display_data"
    }
   ],
   "source": [
    "head(poblacion)"
   ]
  },
  {
   "cell_type": "markdown",
   "id": "68b42117",
   "metadata": {},
   "source": [
    "Convirtiendo datos a negativos para invertir grafico"
   ]
  },
  {
   "cell_type": "code",
   "execution_count": 20,
   "id": "50b6a1bb",
   "metadata": {},
   "outputs": [],
   "source": [
    "poblacion_piramide <- poblacion %>%\n",
    "    mutate(\n",
    "    porcentaje_total = ifelse(\n",
    "      sexo == \"Hombres\",\n",
    "      -porcentaje_total, porcentaje_total),\n",
    "    poblacion = ifelse(sexo == \"Hombres\", -poblacion, poblacion)\n",
    "    )"
   ]
  },
  {
   "cell_type": "code",
   "execution_count": 22,
   "id": "b49eb7cc",
   "metadata": {},
   "outputs": [
    {
     "data": {
      "text/html": [
       "<table class=\"dataframe\">\n",
       "<caption>A tibble: 6 × 5</caption>\n",
       "<thead>\n",
       "\t<tr><th scope=col>year</th><th scope=col>edad_quinquenal</th><th scope=col>sexo</th><th scope=col>poblacion</th><th scope=col>porcentaje_total</th></tr>\n",
       "\t<tr><th scope=col>&lt;dbl&gt;</th><th scope=col>&lt;chr&gt;</th><th scope=col>&lt;chr&gt;</th><th scope=col>&lt;dbl&gt;</th><th scope=col>&lt;dbl&gt;</th></tr>\n",
       "</thead>\n",
       "<tbody>\n",
       "\t<tr><td>2017</td><td>0-04 </td><td>Hombres</td><td>-1269889</td><td>-0.04322014</td></tr>\n",
       "\t<tr><td>2017</td><td>05-09</td><td>Hombres</td><td>-1344405</td><td>-0.04575626</td></tr>\n",
       "\t<tr><td>2017</td><td>10-14</td><td>Hombres</td><td>-1324118</td><td>-0.04506580</td></tr>\n",
       "\t<tr><td>2017</td><td>15-19</td><td>Hombres</td><td>-1217519</td><td>-0.04143774</td></tr>\n",
       "\t<tr><td>2017</td><td>20-24</td><td>Hombres</td><td>-1232042</td><td>-0.04193203</td></tr>\n",
       "\t<tr><td>2017</td><td>25-29</td><td>Hombres</td><td>-1159949</td><td>-0.03947837</td></tr>\n",
       "</tbody>\n",
       "</table>\n"
      ],
      "text/latex": [
       "A tibble: 6 × 5\n",
       "\\begin{tabular}{lllll}\n",
       " year & edad\\_quinquenal & sexo & poblacion & porcentaje\\_total\\\\\n",
       " <dbl> & <chr> & <chr> & <dbl> & <dbl>\\\\\n",
       "\\hline\n",
       "\t 2017 & 0-04  & Hombres & -1269889 & -0.04322014\\\\\n",
       "\t 2017 & 05-09 & Hombres & -1344405 & -0.04575626\\\\\n",
       "\t 2017 & 10-14 & Hombres & -1324118 & -0.04506580\\\\\n",
       "\t 2017 & 15-19 & Hombres & -1217519 & -0.04143774\\\\\n",
       "\t 2017 & 20-24 & Hombres & -1232042 & -0.04193203\\\\\n",
       "\t 2017 & 25-29 & Hombres & -1159949 & -0.03947837\\\\\n",
       "\\end{tabular}\n"
      ],
      "text/markdown": [
       "\n",
       "A tibble: 6 × 5\n",
       "\n",
       "| year &lt;dbl&gt; | edad_quinquenal &lt;chr&gt; | sexo &lt;chr&gt; | poblacion &lt;dbl&gt; | porcentaje_total &lt;dbl&gt; |\n",
       "|---|---|---|---|---|\n",
       "| 2017 | 0-04  | Hombres | -1269889 | -0.04322014 |\n",
       "| 2017 | 05-09 | Hombres | -1344405 | -0.04575626 |\n",
       "| 2017 | 10-14 | Hombres | -1324118 | -0.04506580 |\n",
       "| 2017 | 15-19 | Hombres | -1217519 | -0.04143774 |\n",
       "| 2017 | 20-24 | Hombres | -1232042 | -0.04193203 |\n",
       "| 2017 | 25-29 | Hombres | -1159949 | -0.03947837 |\n",
       "\n"
      ],
      "text/plain": [
       "  year edad_quinquenal sexo    poblacion porcentaje_total\n",
       "1 2017 0-04            Hombres -1269889  -0.04322014     \n",
       "2 2017 05-09           Hombres -1344405  -0.04575626     \n",
       "3 2017 10-14           Hombres -1324118  -0.04506580     \n",
       "4 2017 15-19           Hombres -1217519  -0.04143774     \n",
       "5 2017 20-24           Hombres -1232042  -0.04193203     \n",
       "6 2017 25-29           Hombres -1159949  -0.03947837     "
      ]
     },
     "metadata": {},
     "output_type": "display_data"
    }
   ],
   "source": [
    "head(poblacion_piramide)"
   ]
  },
  {
   "cell_type": "markdown",
   "id": "1cebed37",
   "metadata": {},
   "source": [
    "### Grafico5: Piramide poblacional"
   ]
  },
  {
   "cell_type": "code",
   "execution_count": 25,
   "id": "073442d7",
   "metadata": {},
   "outputs": [],
   "source": [
    "piramide<-subset(poblacion_piramide, year == 2017) %>%\n",
    "  ggplot(\n",
    "    aes(x = edad_quinquenal,\n",
    "        y = porcentaje_total, fill = sexo)\n",
    "    ) +\n",
    "  # agregar el argumento color = \"white\", si gustan\n",
    "    geom_col(position = \"stack\", alpha = 0.6) + \n",
    "    coord_flip() +\n",
    "  # colores que me gustan\n",
    "    scale_fill_manual(values = c(\"midnightblue\", \"darkred\")) +\n",
    "  # tema minimalista\n",
    "    theme_minimal() +\n",
    "  # leyenda para el fondo\n",
    "    theme(\n",
    "      legend.position = \"bottom\",\n",
    "      plot.caption = element_text(hjust = 0)) +\n",
    "  # etiquetas en positivo\n",
    "    scale_y_continuous(labels = abs) +\n",
    "    labs(\n",
    "      y = \"Porcentaje de la población total\",\n",
    "      x = \"Rangos de edad\",\n",
    "      title = \"Pirámide de población de Peru, año 2017\", \n",
    "      subtitle = \"Edad en grupos\")"
   ]
  },
  {
   "cell_type": "code",
   "execution_count": 26,
   "id": "f7cc1a76",
   "metadata": {},
   "outputs": [
    {
     "data": {
      "image/png": "[encoded data removed]",
      "text/plain": [
       "plot without title"
      ]
     },
     "metadata": {
      "image/png": {
       "height": 420,
       "width": 420
      }
     },
     "output_type": "display_data"
    }
   ],
   "source": [
    "piramide"
   ]
  },
  {
   "cell_type": "code",
   "execution_count": 28,
   "id": "b640bc60",
   "metadata": {},
   "outputs": [
    {
     "data": {
      "text/html": [
       "<strong>png:</strong> 2"
      ],
      "text/latex": [
       "\\textbf{png:} 2"
      ],
      "text/markdown": [
       "**png:** 2"
      ],
      "text/plain": [
       "png \n",
       "  2 "
      ]
     },
     "metadata": {},
     "output_type": "display_data"
    }
   ],
   "source": [
    "svg(\"images_salida/Grafico5.svg\")\n",
    "# Código del gráfico\n",
    "plot(piramide)\n",
    "# Cerramos el dispositivo\n",
    "dev.off()"
   ]
  },
  {
   "cell_type": "code",
   "execution_count": null,
   "id": "be1e81c1",
   "metadata": {},
   "outputs": [],
   "source": []
  }
 ],
 "metadata": {
  "kernelspec": {
   "display_name": "R",
   "language": "R",
   "name": "ir"
  },
  "language_info": {
   "codemirror_mode": "r",
   "file_extension": ".r",
   "mimetype": "text/x-r-source",
   "name": "R",
   "pygments_lexer": "r",
   "version": "4.3.0"
  }
 },
 "nbformat": 4,
 "nbformat_minor": 5
}
