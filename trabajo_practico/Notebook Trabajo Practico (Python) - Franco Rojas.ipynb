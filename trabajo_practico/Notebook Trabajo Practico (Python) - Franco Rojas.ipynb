{
 "cells": [
  {
   "cell_type": "markdown",
   "metadata": {
    "id": "ZoNc7XA9aION"
   },
   "source": [
    "# <center>TRABAJO PRACTICO<center>"
   ]
  },
  {
   "cell_type": "markdown",
   "metadata": {
    "id": "VUGNPU_KaNQq"
   },
   "source": [
    "**Estudiante**: Franco Rojas Yucra"
   ]
  },
  {
   "cell_type": "markdown",
   "metadata": {},
   "source": [
    "###### Librerias necesarias"
   ]
  },
  {
   "cell_type": "code",
   "execution_count": 1,
   "metadata": {},
   "outputs": [],
   "source": [
    "import pandas as pd\n",
    "import io\n",
    "import requests\n",
    "import seaborn as sns\n",
    "import timeit\n",
    "import matplotlib.pyplot as plt\n",
    "import numpy as np"
   ]
  },
  {
   "cell_type": "markdown",
   "metadata": {},
   "source": [
    "## Datos"
   ]
  },
  {
   "cell_type": "code",
   "execution_count": 2,
   "metadata": {
    "colab": {
     "base_uri": "https://localhost:8080/",
     "height": 391
    },
    "executionInfo": {
     "elapsed": 8381,
     "status": "ok",
     "timestamp": 1672683486023,
     "user": {
      "displayName": "Jose Carlos González",
      "userId": "11715329897128166521"
     },
     "user_tz": -60
    },
    "id": "CRnebroi6Pwc",
    "outputId": "dcdf4567-e937-49c4-9155-5997ff818186"
   },
   "outputs": [],
   "source": [
    "df_pobcruc1=pd.read_excel('datos_censo/01 Censo2017-Poblacion-CruceAreaSexo (Salidas).xlsx')"
   ]
  },
  {
   "cell_type": "code",
   "execution_count": 3,
   "metadata": {
    "scrolled": true
   },
   "outputs": [
    {
     "data": {
      "text/html": [
       "<div>\n",
       "<style scoped>\n",
       "    .dataframe tbody tr th:only-of-type {\n",
       "        vertical-align: middle;\n",
       "    }\n",
       "\n",
       "    .dataframe tbody tr th {\n",
       "        vertical-align: top;\n",
       "    }\n",
       "\n",
       "    .dataframe thead th {\n",
       "        text-align: right;\n",
       "    }\n",
       "</style>\n",
       "<table border=\"1\" class=\"dataframe\">\n",
       "  <thead>\n",
       "    <tr style=\"text-align: right;\">\n",
       "      <th></th>\n",
       "      <th>Ubigeo</th>\n",
       "      <th>Departamento</th>\n",
       "      <th>Provincia</th>\n",
       "      <th>Distrito</th>\n",
       "      <th>TIPO AREA ENCUESTA</th>\n",
       "      <th>HOMBRE</th>\n",
       "      <th>MUJER</th>\n",
       "      <th>TOTAL</th>\n",
       "    </tr>\n",
       "  </thead>\n",
       "  <tbody>\n",
       "    <tr>\n",
       "      <th>0</th>\n",
       "      <td>10101</td>\n",
       "      <td>Amazonas</td>\n",
       "      <td>Chachapoyas</td>\n",
       "      <td>Chachapoyas</td>\n",
       "      <td>Urbano de encuesta</td>\n",
       "      <td>15131</td>\n",
       "      <td>16895.0</td>\n",
       "      <td>32026</td>\n",
       "    </tr>\n",
       "    <tr>\n",
       "      <th>1</th>\n",
       "      <td>10101</td>\n",
       "      <td>Amazonas</td>\n",
       "      <td>Chachapoyas</td>\n",
       "      <td>Chachapoyas</td>\n",
       "      <td>Rural de encuesta</td>\n",
       "      <td>295</td>\n",
       "      <td>268.0</td>\n",
       "      <td>563</td>\n",
       "    </tr>\n",
       "    <tr>\n",
       "      <th>2</th>\n",
       "      <td>10102</td>\n",
       "      <td>Amazonas</td>\n",
       "      <td>Chachapoyas</td>\n",
       "      <td>Asuncion</td>\n",
       "      <td>Rural de encuesta</td>\n",
       "      <td>134</td>\n",
       "      <td>128.0</td>\n",
       "      <td>262</td>\n",
       "    </tr>\n",
       "  </tbody>\n",
       "</table>\n",
       "</div>"
      ],
      "text/plain": [
       "   Ubigeo Departamento     Provincia     Distrito   TIPO AREA ENCUESTA  \\\n",
       "0   10101     Amazonas   Chachapoyas  Chachapoyas   Urbano de encuesta   \n",
       "1   10101     Amazonas   Chachapoyas  Chachapoyas    Rural de encuesta   \n",
       "2   10102     Amazonas   Chachapoyas     Asuncion    Rural de encuesta   \n",
       "\n",
       "   HOMBRE    MUJER  TOTAL  \n",
       "0   15131  16895.0  32026  \n",
       "1     295    268.0    563  \n",
       "2     134    128.0    262  "
      ]
     },
     "execution_count": 3,
     "metadata": {},
     "output_type": "execute_result"
    }
   ],
   "source": [
    "df_pobcruc1.head(3)"
   ]
  },
  {
   "cell_type": "code",
   "execution_count": null,
   "metadata": {},
   "outputs": [],
   "source": []
  },
  {
   "cell_type": "markdown",
   "metadata": {},
   "source": [
    "### Grafico1: Distribución Urbano-Rural"
   ]
  },
  {
   "cell_type": "code",
   "execution_count": 20,
   "metadata": {},
   "outputs": [
    {
     "data": {
      "text/html": [
       "<div>\n",
       "<style scoped>\n",
       "    .dataframe tbody tr th:only-of-type {\n",
       "        vertical-align: middle;\n",
       "    }\n",
       "\n",
       "    .dataframe tbody tr th {\n",
       "        vertical-align: top;\n",
       "    }\n",
       "\n",
       "    .dataframe thead th {\n",
       "        text-align: right;\n",
       "    }\n",
       "</style>\n",
       "<table border=\"1\" class=\"dataframe\">\n",
       "  <thead>\n",
       "    <tr style=\"text-align: right;\">\n",
       "      <th></th>\n",
       "      <th>TIPO AREA ENCUESTA</th>\n",
       "      <th>TOTAL</th>\n",
       "    </tr>\n",
       "  </thead>\n",
       "  <tbody>\n",
       "    <tr>\n",
       "      <th>0</th>\n",
       "      <td>Rural de encuesta</td>\n",
       "      <td>0.20659</td>\n",
       "    </tr>\n",
       "    <tr>\n",
       "      <th>1</th>\n",
       "      <td>Urbano de encuesta</td>\n",
       "      <td>0.79341</td>\n",
       "    </tr>\n",
       "  </tbody>\n",
       "</table>\n",
       "</div>"
      ],
      "text/plain": [
       "    TIPO AREA ENCUESTA    TOTAL\n",
       "0    Rural de encuesta  0.20659\n",
       "1   Urbano de encuesta  0.79341"
      ]
     },
     "execution_count": 20,
     "metadata": {},
     "output_type": "execute_result"
    }
   ],
   "source": [
    "df_graf1=df_pobcruc1[['TIPO AREA ENCUESTA','TOTAL']].groupby('TIPO AREA ENCUESTA').sum()/df_pobcruc1.TOTAL.sum()\n",
    "df_graf1=df_graf1.reset_index()\n",
    "df_graf1"
   ]
  },
  {
   "cell_type": "code",
   "execution_count": 28,
   "metadata": {},
   "outputs": [
    {
     "data": {
      "image/png": "[encoded data removed]",
      "text/plain": [
       "<Figure size 432x288 with 1 Axes>"
      ]
     },
     "metadata": {},
     "output_type": "display_data"
    }
   ],
   "source": [
    "area = df_graf1['TIPO AREA ENCUESTA']\n",
    "poblac = df_graf1['TOTAL']\n",
    "colores = [\"orchid\",\"orange\"]\n",
    "borde = { 'linewidth' : 1, 'edgecolor' : \"white\" }\n",
    "plt.pie(poblac, labels=area, autopct=\"%.1f%%\", colors=colores,wedgeprops = borde)\n",
    "plt.savefig(\"images_salida/Grafico1.jpg\",bbox_inches='tight')\n",
    "plt.show()"
   ]
  },
  {
   "cell_type": "markdown",
   "metadata": {},
   "source": [
    "### Grafico2: Distribución Urbano-Rural y Sexo"
   ]
  },
  {
   "cell_type": "code",
   "execution_count": 10,
   "metadata": {},
   "outputs": [
    {
     "data": {
      "text/html": [
       "<div>\n",
       "<style scoped>\n",
       "    .dataframe tbody tr th:only-of-type {\n",
       "        vertical-align: middle;\n",
       "    }\n",
       "\n",
       "    .dataframe tbody tr th {\n",
       "        vertical-align: top;\n",
       "    }\n",
       "\n",
       "    .dataframe thead th {\n",
       "        text-align: right;\n",
       "    }\n",
       "</style>\n",
       "<table border=\"1\" class=\"dataframe\">\n",
       "  <thead>\n",
       "    <tr style=\"text-align: right;\">\n",
       "      <th></th>\n",
       "      <th>TIPO AREA ENCUESTA</th>\n",
       "      <th>TOTAL</th>\n",
       "      <th>HOMBRE</th>\n",
       "      <th>MUJER</th>\n",
       "    </tr>\n",
       "  </thead>\n",
       "  <tbody>\n",
       "    <tr>\n",
       "      <th>0</th>\n",
       "      <td>Rural de encuesta</td>\n",
       "      <td>6069991</td>\n",
       "      <td>3073271</td>\n",
       "      <td>2996720.0</td>\n",
       "    </tr>\n",
       "    <tr>\n",
       "      <th>1</th>\n",
       "      <td>Urbano de encuesta</td>\n",
       "      <td>23311893</td>\n",
       "      <td>11377486</td>\n",
       "      <td>11934407.0</td>\n",
       "    </tr>\n",
       "  </tbody>\n",
       "</table>\n",
       "</div>"
      ],
      "text/plain": [
       "    TIPO AREA ENCUESTA     TOTAL    HOMBRE       MUJER\n",
       "0    Rural de encuesta   6069991   3073271   2996720.0\n",
       "1   Urbano de encuesta  23311893  11377486  11934407.0"
      ]
     },
     "execution_count": 10,
     "metadata": {},
     "output_type": "execute_result"
    }
   ],
   "source": [
    "df_graf2=df_pobcruc1[['TIPO AREA ENCUESTA','TOTAL','HOMBRE','MUJER']].groupby('TIPO AREA ENCUESTA').sum().reset_index()\n",
    "df_graf2"
   ]
  },
  {
   "cell_type": "code",
   "execution_count": 11,
   "metadata": {},
   "outputs": [
    {
     "data": {
      "image/png": "[encoded data removed]",
      "text/plain": [
       "<Figure size 432x288 with 1 Axes>"
      ]
     },
     "metadata": {
      "needs_background": "light"
     },
     "output_type": "display_data"
    }
   ],
   "source": [
    "fig, ax = plt.subplots()\n",
    "\n",
    "ax.bar(df_graf2['TIPO AREA ENCUESTA'], df_graf2['HOMBRE'], color = \"#44a5c2\",\n",
    "       edgecolor = \"black\", linewidth = 2, label = \"Hombres\")\n",
    "ax.bar(df_graf2['TIPO AREA ENCUESTA'], df_graf2['MUJER'],bottom = df_graf2['HOMBRE'], color = \"#ffae49\",\n",
    "       edgecolor = \"black\", linewidth = 2, label = \"Mujeres\")\n",
    "\n",
    "total_values = np.add(df_graf2['HOMBRE'], df_graf2['MUJER'])\n",
    "for i, total in enumerate(total_values):\n",
    "    ax.text(i, total, round(total/1000000),\n",
    "          ha = 'center', weight = 'bold', color = 'black')\n",
    "ax.legend()\n",
    "ax.set_ylabel('Numero de habitantes')\n",
    "plt.savefig(\"images_salida/Grafico2.jpg\",bbox_inches='tight')\n",
    "plt.show()"
   ]
  },
  {
   "cell_type": "code",
   "execution_count": null,
   "metadata": {},
   "outputs": [],
   "source": []
  },
  {
   "cell_type": "markdown",
   "metadata": {},
   "source": [
    "### Grafico3-4: Cantidad y Distribución urbano-rural de la población por departamento"
   ]
  },
  {
   "cell_type": "markdown",
   "metadata": {},
   "source": [
    "*Este grafico lo realizaré en Google Sheets, por lo que prepararé los datos y lo exportaré*"
   ]
  },
  {
   "cell_type": "code",
   "execution_count": 32,
   "metadata": {},
   "outputs": [],
   "source": [
    "df_graf3=df_pobcruc1[['Departamento','TIPO AREA ENCUESTA','TOTAL']].groupby(['Departamento','TIPO AREA ENCUESTA']).sum()\n",
    "df_graf3=df_graf3.reset_index()\n",
    "\n",
    "table3 = pd.pivot_table(df_graf3, values='TOTAL', index='Departamento',\n",
    "                       columns=['TIPO AREA ENCUESTA'], aggfunc=np.sum).reset_index()"
   ]
  },
  {
   "cell_type": "code",
   "execution_count": 34,
   "metadata": {},
   "outputs": [
    {
     "data": {
      "text/html": [
       "<div>\n",
       "<style scoped>\n",
       "    .dataframe tbody tr th:only-of-type {\n",
       "        vertical-align: middle;\n",
       "    }\n",
       "\n",
       "    .dataframe tbody tr th {\n",
       "        vertical-align: top;\n",
       "    }\n",
       "\n",
       "    .dataframe thead th {\n",
       "        text-align: right;\n",
       "    }\n",
       "</style>\n",
       "<table border=\"1\" class=\"dataframe\">\n",
       "  <thead>\n",
       "    <tr style=\"text-align: right;\">\n",
       "      <th>TIPO AREA ENCUESTA</th>\n",
       "      <th>Departamento</th>\n",
       "      <th>Rural de encuesta</th>\n",
       "      <th>Urbano de encuesta</th>\n",
       "    </tr>\n",
       "  </thead>\n",
       "  <tbody>\n",
       "    <tr>\n",
       "      <th>0</th>\n",
       "      <td>Amazonas</td>\n",
       "      <td>221824.0</td>\n",
       "      <td>157560.0</td>\n",
       "    </tr>\n",
       "    <tr>\n",
       "      <th>1</th>\n",
       "      <td>Ancash</td>\n",
       "      <td>396791.0</td>\n",
       "      <td>686728.0</td>\n",
       "    </tr>\n",
       "    <tr>\n",
       "      <th>2</th>\n",
       "      <td>Apurimac</td>\n",
       "      <td>219795.0</td>\n",
       "      <td>185964.0</td>\n",
       "    </tr>\n",
       "    <tr>\n",
       "      <th>3</th>\n",
       "      <td>Arequipa</td>\n",
       "      <td>113789.0</td>\n",
       "      <td>1268941.0</td>\n",
       "    </tr>\n",
       "    <tr>\n",
       "      <th>4</th>\n",
       "      <td>Ayacucho</td>\n",
       "      <td>258131.0</td>\n",
       "      <td>358045.0</td>\n",
       "    </tr>\n",
       "  </tbody>\n",
       "</table>\n",
       "</div>"
      ],
      "text/plain": [
       "TIPO AREA ENCUESTA Departamento   Rural de encuesta   Urbano de encuesta\n",
       "0                      Amazonas            221824.0             157560.0\n",
       "1                        Ancash            396791.0             686728.0\n",
       "2                      Apurimac            219795.0             185964.0\n",
       "3                      Arequipa            113789.0            1268941.0\n",
       "4                      Ayacucho            258131.0             358045.0"
      ]
     },
     "execution_count": 34,
     "metadata": {},
     "output_type": "execute_result"
    }
   ],
   "source": [
    "table3.head()"
   ]
  },
  {
   "cell_type": "code",
   "execution_count": 36,
   "metadata": {},
   "outputs": [],
   "source": [
    "table3.to_excel('output_excel/Datos_grafico3_4.xlsx',index=False)"
   ]
  },
  {
   "cell_type": "code",
   "execution_count": null,
   "metadata": {},
   "outputs": [],
   "source": []
  },
  {
   "cell_type": "code",
   "execution_count": null,
   "metadata": {},
   "outputs": [],
   "source": []
  },
  {
   "cell_type": "code",
   "execution_count": null,
   "metadata": {},
   "outputs": [],
   "source": []
  },
  {
   "cell_type": "code",
   "execution_count": null,
   "metadata": {},
   "outputs": [],
   "source": []
  },
  {
   "cell_type": "code",
   "execution_count": null,
   "metadata": {},
   "outputs": [],
   "source": []
  }
 ],
 "metadata": {
  "colab": {
   "provenance": [
    {
     "file_id": "1raLx3QymgBt8eJWGA9gX9gp41OQGDuDi",
     "timestamp": 1582803876256
    },
    {
     "file_id": "1yijtMoIJyk_jNlJ78Ih66ykAvym3h1Y_",
     "timestamp": 1550320463717
    }
   ],
   "toc_visible": true
  },
  "kernelspec": {
   "display_name": "Python 3 (ipykernel)",
   "language": "python",
   "name": "python3"
  },
  "language_info": {
   "codemirror_mode": {
    "name": "ipython",
    "version": 3
   },
   "file_extension": ".py",
   "mimetype": "text/x-python",
   "name": "python",
   "nbconvert_exporter": "python",
   "pygments_lexer": "ipython3",
   "version": "3.9.12"
  }
 },
 "nbformat": 4,
 "nbformat_minor": 1
}
